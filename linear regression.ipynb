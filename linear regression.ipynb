{
 "cells": [
  {
   "cell_type": "code",
   "execution_count": null,
   "metadata": {},
   "outputs": [],
   "source": [
    "import numpy as np\n",
    "import pandas as pd\n",
    "import matplotlib\n",
    "import matplotlib.pyplot as plt\n",
    "\n",
    "x = np.array([0.86, 0.09, -0.85, 0.87, -0.44, -0.43, -1.10, 0.40, -0.96, 0.17])\n",
    "x = np.vstack(x)\n",
    "y = np.array([2.49, 0.83, -0.25, 3.10, 0.87, 0.02, -0.12, 1.81, -0.83, 0.43])\n",
    "y = np.vstack(y)\n",
    "\n",
    "plt.plot(x,y,'o')\n",
    "plt.show()"
   ]
  },
  {
   "cell_type": "code",
   "execution_count": null,
   "metadata": {},
   "outputs": [],
   "source": [
    "# closed-form\n",
    "X = np.hstack((x,np.ones([x.size,1])))\n",
    "w = np.matmul(np.matmul(np.linalg.inv(np.matmul(np.transpose(X),X)),np.transpose(X)),y)\n",
    "\n",
    "\n",
    "def graph(formula, x_range, x, y):\n",
    "    xs = np.array(x_range)\n",
    "    ys = formula(xs)\n",
    "    \n",
    "    plt.plot(xs,ys)\n",
    "    plt.plot(x,y,'o')\n",
    "    plt.show()\n",
    "    \n",
    "graph(lambda xs: (1.6101*xs + 1.0588), range(-2,2), x, y)"
   ]
  },
  {
   "cell_type": "code",
   "execution_count": null,
   "metadata": {
    "collapsed": true
   },
   "outputs": [],
   "source": [
    "# class example\n",
    "x = np.arange(-5,6)\n",
    "x = np.vstack(x)\n",
    "y = np.zeros(11)\n",
    "y[5] = 1\n",
    "y = np.vstack(y)\n",
    "\n",
    "plt.plot(x,y,'o')\n",
    "plt.show()\n",
    "\n",
    "# closed-form)\n",
    "X = np.hstack((x, np.ones([x.size,1])))\n",
    "\n",
    "w = np.matmul(np.matmul(np.linalg.inv(np.matmul(np.transpose(X),X)),np.transpose(X)),y)\n",
    "\n",
    "def graph(formula, x_range, x, y):\n",
    "    xs = np.array(x_range)\n",
    "    ys = formula(xs)\n",
    "    \n",
    "    plt.plot(xs,ys)\n",
    "    plt.plot(x,y,'o')\n",
    "    plt.show()\n",
    "\n",
    "graph(lambda xs: xs*0 + 0.09090909, range(-6,6), x, y)"
   ]
  },
  {
   "cell_type": "code",
   "execution_count": null,
   "metadata": {
    "collapsed": true
   },
   "outputs": [],
   "source": [
    "# gradient descent \n",
    "x = np.array([0.86, 0.09, -0.85, 0.87, -0.44, -0.43, -1.10, 0.40, -0.96, 0.17])\n",
    "x = np.vstack(x)\n",
    "y = np.array([2.49, 0.83, -0.25, 3.10, 0.87, 0.02, -0.12, 1.81, -0.83, 0.43])\n",
    "y = np.vstack(y)\n",
    "\n",
    "X = np.hstack((x, np.ones([x.size,1])))"
   ]
  },
  {
   "cell_type": "code",
   "execution_count": null,
   "metadata": {},
   "outputs": [],
   "source": [
    "w1 = np.array([[0],[0]])\n",
    "w2 = np.array([[5],[5]])\n",
    "alpha = 0.05\n",
    "e = 0.1\n",
    "def graph(formula, x_range, x, y):\n",
    "    xs = np.array(x_range)\n",
    "    ys = formula(xs)\n",
    "    \n",
    "    plt.plot(xs,ys)\n",
    "    plt.plot(x,y,'o')\n",
    "    #plt.show()\n",
    "\n",
    "graph(lambda xs: xs*w2[0] + w2[1], range(-2,2), x, y)\n",
    "\n",
    "while(True):\n",
    "    w1t = w1\n",
    "    w1 = w2\n",
    "    w2 = w1t - alpha*2*(np.subtract(np.matmul(np.matmul(np.transpose(X),X),w1t),np.matmul(np.transpose(X),y)))\n",
    "    graph(lambda xs: xs*w2[0] + w2[1], range(-2,2), x, y)\n",
    "    \n",
    "    print(np.subtract(w2,w1))\n",
    "    if(abs(np.subtract(w2[0],w1[0]))<e or abs(np.subtract(w2[1],w1[1]))<e):\n",
    "        break\n",
    "        \n",
    "plt.show()\n"
   ]
  },
  {
   "cell_type": "code",
   "execution_count": null,
   "metadata": {},
   "outputs": [],
   "source": [
    "# polynomial gradient descent\n",
    "\n",
    "x2 = np.multiply(x,x)\n",
    "X2 = np.hstack((x2,X))\n",
    "\n",
    "w1 = np.array([[0],[0],[0]])\n",
    "w2 = np.array([[5],[5],[5]])\n",
    "alpha = 0.05\n",
    "\n",
    "def graph(formula, x_range, x, y):\n",
    "    xs = np.array(x_range)\n",
    "    ys = formula(xs)\n",
    "    \n",
    "    plt.plot(xs,ys)\n",
    "    plt.plot(x,y,'o')\n",
    "    plt.show()\n",
    "\n",
    "graph(lambda xs: xs**2*w2[0] + xs*w2[1] + w2[2], np.arange(-1.5,1.5,0.1), x, y)\n",
    "\n",
    "while(True):\n",
    "    w1t = w1\n",
    "    w1 = w2\n",
    "    w2 = w1t - alpha*2*(np.subtract(np.matmul(np.matmul(np.transpose(X2),X2),w1t),np.matmul(np.transpose(X2),y)))\n",
    "    \n",
    "    graph(lambda xs: xs**2*w2[0] + xs*w2[1] + w2[2], np.arange(-1.5,1.5,0.1), x, y)\n",
    "    \n",
    "    if(abs(np.subtract(w2[0],w1[0]))<e or abs(np.subtract(w2[1],w1[1]))<e):\n",
    "        break\n",
    "#plt.show()\n"
   ]
  },
  {
   "cell_type": "code",
   "execution_count": null,
   "metadata": {
    "collapsed": true
   },
   "outputs": [],
   "source": [
    "# polynomial closed-form\n",
    "\n",
    "x2 = np.multiply(x,x)\n",
    "X2 = np.hstack((x2,X))\n",
    "\n",
    "w = np.matmul(np.matmul(np.linalg.inv(np.matmul(np.transpose(X2),X2)),np.transpose(X2)),y)\n",
    "\n",
    "def graph(formula, x_range, x, y):\n",
    "    xs = np.array(x_range)\n",
    "    ys = formula(xs)\n",
    "    \n",
    "    plt.plot(xs,ys)\n",
    "    plt.plot(x,y,'o')\n",
    "    plt.show()\n",
    "    \n",
    "graph(lambda xs: xs**2*w[0] + xs*w[1] + w[2], np.arange(-1.5,1.5,0.1), x, y)\n",
    "\n"
   ]
  },
  {
   "cell_type": "code",
   "execution_count": 1,
   "metadata": {},
   "outputs": [
    {
     "name": "stdout",
     "output_type": "stream",
     "text": [
      "       x           y\n",
      "0     24   21.549452\n",
      "1     50   47.464463\n",
      "2     15   17.218656\n",
      "3     38   36.586398\n",
      "4     87   87.288984\n",
      "5     36   32.463875\n",
      "6     12   10.780897\n",
      "7     81   80.763399\n",
      "8     25   24.612151\n",
      "9      5    6.963319\n",
      "10    16   11.237573\n",
      "11    16   13.532902\n",
      "12    24   24.603239\n",
      "13    39   39.400500\n",
      "14    54   48.437538\n",
      "15    60   61.699003\n",
      "16    26   26.928324\n",
      "17    73   70.405206\n",
      "18    29   29.340924\n",
      "19    31   25.308952\n",
      "20    68   69.029343\n",
      "21    87   84.994847\n",
      "22    58   57.043103\n",
      "23    54   50.592199\n",
      "24    84   83.027722\n",
      "25    58   57.057527\n",
      "26    49   47.958833\n",
      "27    20   24.342264\n",
      "28    90   94.684883\n",
      "29    48   48.039707\n",
      "..   ...         ...\n",
      "670   84   82.889358\n",
      "671   64   63.613650\n",
      "672   12   11.296272\n",
      "673   61   60.022749\n",
      "674   75   72.603393\n",
      "675   15   11.879646\n",
      "676  100  100.701274\n",
      "677   43   45.124208\n",
      "678   13   14.811068\n",
      "679   48   48.093680\n",
      "680   45   42.291457\n",
      "681   52   52.733898\n",
      "682   34   36.723970\n",
      "683   30   28.645352\n",
      "684   65   62.166753\n",
      "685  100   95.584595\n",
      "686   67   66.043253\n",
      "687   99   99.956622\n",
      "688   45   46.149420\n",
      "689   87   89.137550\n",
      "690   73   69.717878\n",
      "691    9   12.317366\n",
      "692   81   78.202963\n",
      "693   72   71.309954\n",
      "694   81   81.455447\n",
      "695   58   58.595006\n",
      "696   93   94.625094\n",
      "697   82   88.603770\n",
      "698   66   63.648685\n",
      "699   97   94.975266\n",
      "\n",
      "[700 rows x 2 columns]\n"
     ]
    },
    {
     "data": {
      "image/png": "[encoded data removed]",
      "text/plain": [
       "<matplotlib.figure.Figure at 0x22e8b1cc518>"
      ]
     },
     "metadata": {},
     "output_type": "display_data"
    }
   ],
   "source": [
    "# kaggle linear regression data\n",
    "\n",
    "import numpy as np\n",
    "import pandas as pd\n",
    "import matplotlib\n",
    "import matplotlib.pyplot as plt\n",
    "\n",
    "df1=pd.read_csv(\"C:/Users/BHYUNG/Desktop/ml/kaggle/random-linear-regression/train.csv\")\n",
    "print(df1)\n",
    "\n",
    "data = df1.values\n",
    "x = np.array(data[:,0])\n",
    "x = np.vstack(x)\n",
    "y = np.array(data[:,1])\n",
    "y = np.vstack(y)\n",
    "\n",
    "plt.plot(x,y,'o')\n",
    "plt.show()\n"
   ]
  },
  {
   "cell_type": "code",
   "execution_count": 21,
   "metadata": {},
   "outputs": [
    {
     "data": {
      "image/png": "[encoded data removed]",
      "text/plain": [
       "<matplotlib.figure.Figure at 0x22e8fa3ea90>"
      ]
     },
     "metadata": {},
     "output_type": "display_data"
    },
    {
     "data": {
      "image/png": "[encoded data removed]",
      "text/plain": [
       "<matplotlib.figure.Figure at 0x22e8e09a390>"
      ]
     },
     "metadata": {},
     "output_type": "display_data"
    },
    {
     "name": "stdout",
     "output_type": "stream",
     "text": [
      "[[ 0.99564121]\n",
      " [ 0.22256745]]\n"
     ]
    }
   ],
   "source": [
    "X = np.hstack((x, np.ones([x.size,1])))\n",
    "\n",
    "w1 = np.array([[0],[0]])\n",
    "w2 = np.array([[5],[5]])\n",
    "alpha = 0.0000001\n",
    "e = 0.005\n",
    "\n",
    "def graph(formula, x_range, x, y):\n",
    "    xs = np.array(x_range)\n",
    "    ys = formula(xs)\n",
    "    \n",
    "    plt.plot(xs,ys)\n",
    "    plt.plot(x,y,'o')\n",
    "    plt.show()\n",
    "\n",
    "graph(lambda xs: xs*w2[0] + w2[1], range(0,100), x, y)\n",
    "\n",
    "while(True):\n",
    "    w1t = w1\n",
    "    w1 = w2\n",
    "    w2 = w1t - alpha*2*(np.subtract(np.matmul(np.matmul(X.T,X),w1t),np.matmul(X.T,y)))\n",
    "    #graph(lambda xs: xs*w2[0] + w2[1], np.arange(0,100), x, y)\n",
    "    #print(abs(np.subtract(w2,w1)))\n",
    "\n",
    "    if(abs(np.subtract(w2[0],w1[0]))<e or abs(np.subtract(w2[1],w1[1]))<e):\n",
    "        break\n",
    "        \n",
    "graph(lambda xs: xs*w2[0] + w2[1], np.arange(0,100), x, y)\n",
    "print(w2)\n"
   ]
  },
  {
   "cell_type": "code",
   "execution_count": 11,
   "metadata": {},
   "outputs": [
    {
     "data": {
      "image/png": "[encoded data removed]",
      "text/plain": [
       "<matplotlib.figure.Figure at 0x22e8e0bc3c8>"
      ]
     },
     "metadata": {},
     "output_type": "display_data"
    },
    {
     "name": "stdout",
     "output_type": "stream",
     "text": [
      "[[ 1.00077826]\n",
      " [-0.12015653]]\n"
     ]
    }
   ],
   "source": [
    "# closed-form)\n",
    "X = np.hstack((x, np.ones([x.size,1])))\n",
    "\n",
    "w = np.matmul(np.matmul(np.linalg.inv(np.matmul(np.transpose(X),X)),np.transpose(X)),y)\n",
    "\n",
    "def graph(formula, x_range, x, y):\n",
    "    xs = np.array(x_range)\n",
    "    ys = formula(xs)\n",
    "    \n",
    "    plt.plot(xs,ys)\n",
    "    plt.plot(x,y,'o')\n",
    "    plt.show()\n",
    "\n",
    "graph(lambda xs: xs*w[0] + w[1], range(0,100), x, y)\n",
    "\n",
    "print(w)"
   ]
  },
  {
   "cell_type": "code",
   "execution_count": null,
   "metadata": {
    "collapsed": true
   },
   "outputs": [],
   "source": [
    "# error\n",
    "\n",
    "def err(w,x,y):\n",
    "    error = "
   ]
  }
 ],
 "metadata": {
  "kernelspec": {
   "display_name": "Python 3",
   "language": "python",
   "name": "python3"
  },
  "language_info": {
   "codemirror_mode": {
    "name": "ipython",
    "version": 3
   },
   "file_extension": ".py",
   "mimetype": "text/x-python",
   "name": "python",
   "nbconvert_exporter": "python",
   "pygments_lexer": "ipython3",
   "version": "3.6.2"
  }
 },
 "nbformat": 4,
 "nbformat_minor": 2
}
